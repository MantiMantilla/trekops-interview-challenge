{
 "cells": [
  {
   "cell_type": "markdown",
   "id": "30e21dd0",
   "metadata": {},
   "source": [
    "# Trekops Data Analytics Challenge\n",
    "\n",
    "This notebook is my take on the Trekops Data Analytics Challenge for the Data Analyst job application."
   ]
  },
  {
   "cell_type": "code",
   "execution_count": 1,
   "id": "2abf9af7",
   "metadata": {},
   "outputs": [],
   "source": [
    "import pandas as pd\n",
    "import numpy as np\n",
    "import matplotlib.pyplot as plt\n",
    "import seaborn as sns\n",
    "from sklearn.feature_selection import f_regression, mutual_info_regression\n",
    "from sklearn.linear_model import LogisticRegression"
   ]
  },
  {
   "cell_type": "markdown",
   "id": "83c99100",
   "metadata": {},
   "source": [
    "## 1. Importing and Cleaning the Data"
   ]
  },
  {
   "cell_type": "code",
   "execution_count": 2,
   "id": "662de8fe",
   "metadata": {},
   "outputs": [
    {
     "data": {
      "text/html": [
       "<div>\n",
       "<style scoped>\n",
       "    .dataframe tbody tr th:only-of-type {\n",
       "        vertical-align: middle;\n",
       "    }\n",
       "\n",
       "    .dataframe tbody tr th {\n",
       "        vertical-align: top;\n",
       "    }\n",
       "\n",
       "    .dataframe thead th {\n",
       "        text-align: right;\n",
       "    }\n",
       "</style>\n",
       "<table border=\"1\" class=\"dataframe\">\n",
       "  <thead>\n",
       "    <tr style=\"text-align: right;\">\n",
       "      <th></th>\n",
       "      <th>Appr?</th>\n",
       "      <th>CustomerID</th>\n",
       "      <th>Co Website</th>\n",
       "      <th>Processing Co</th>\n",
       "      <th>Issuing Bank</th>\n",
       "      <th>Amount</th>\n",
       "      <th>Attempt Timestamp</th>\n",
       "    </tr>\n",
       "  </thead>\n",
       "  <tbody>\n",
       "    <tr>\n",
       "      <th>0</th>\n",
       "      <td>1</td>\n",
       "      <td>154838</td>\n",
       "      <td>14</td>\n",
       "      <td>203</td>\n",
       "      <td>BANK1000</td>\n",
       "      <td>500.0</td>\n",
       "      <td>2021-09-26 23:56:00</td>\n",
       "    </tr>\n",
       "    <tr>\n",
       "      <th>1</th>\n",
       "      <td>1</td>\n",
       "      <td>154587</td>\n",
       "      <td>14</td>\n",
       "      <td>190</td>\n",
       "      <td>BANK1017</td>\n",
       "      <td>100.0</td>\n",
       "      <td>2021-09-26 23:53:00</td>\n",
       "    </tr>\n",
       "    <tr>\n",
       "      <th>2</th>\n",
       "      <td>0</td>\n",
       "      <td>143623</td>\n",
       "      <td>23</td>\n",
       "      <td>204</td>\n",
       "      <td>BANK1013</td>\n",
       "      <td>90.0</td>\n",
       "      <td>2021-09-26 23:46:00</td>\n",
       "    </tr>\n",
       "    <tr>\n",
       "      <th>3</th>\n",
       "      <td>1</td>\n",
       "      <td>154435</td>\n",
       "      <td>23</td>\n",
       "      <td>103</td>\n",
       "      <td>BANK1139</td>\n",
       "      <td>25.0</td>\n",
       "      <td>2021-09-26 23:38:00</td>\n",
       "    </tr>\n",
       "    <tr>\n",
       "      <th>4</th>\n",
       "      <td>0</td>\n",
       "      <td>155195</td>\n",
       "      <td>18</td>\n",
       "      <td>109</td>\n",
       "      <td>BANK1016</td>\n",
       "      <td>60.0</td>\n",
       "      <td>2021-09-26 23:29:00</td>\n",
       "    </tr>\n",
       "  </tbody>\n",
       "</table>\n",
       "</div>"
      ],
      "text/plain": [
       "   Appr?  CustomerID  Co Website  Processing Co Issuing Bank  Amount  \\\n",
       "0      1      154838          14            203     BANK1000   500.0   \n",
       "1      1      154587          14            190     BANK1017   100.0   \n",
       "2      0      143623          23            204     BANK1013    90.0   \n",
       "3      1      154435          23            103     BANK1139    25.0   \n",
       "4      0      155195          18            109     BANK1016    60.0   \n",
       "\n",
       "    Attempt Timestamp  \n",
       "0 2021-09-26 23:56:00  \n",
       "1 2021-09-26 23:53:00  \n",
       "2 2021-09-26 23:46:00  \n",
       "3 2021-09-26 23:38:00  \n",
       "4 2021-09-26 23:29:00  "
      ]
     },
     "execution_count": 2,
     "metadata": {},
     "output_type": "execute_result"
    }
   ],
   "source": [
    "# Read xlsx file using pandas\n",
    "payments_df = pd.read_excel(\"../data/Recruiting Task Dataset.xlsx\", header=0)\n",
    "payments_df.head()"
   ]
  },
  {
   "cell_type": "code",
   "execution_count": 3,
   "id": "15364997",
   "metadata": {},
   "outputs": [
    {
     "data": {
      "text/plain": [
       "Appr?                0\n",
       "CustomerID           0\n",
       "Co Website           0\n",
       "Processing Co        0\n",
       "Issuing Bank         2\n",
       "Amount               0\n",
       "Attempt Timestamp    0\n",
       "dtype: int64"
      ]
     },
     "execution_count": 3,
     "metadata": {},
     "output_type": "execute_result"
    }
   ],
   "source": [
    "# Identify missing values\n",
    "payments_df.isnull().sum(axis=0)"
   ]
  },
  {
   "cell_type": "markdown",
   "id": "df8576d1",
   "metadata": {},
   "source": [
    "There seem to be no missing values except for two unidentified Issuing Bank registers.\n",
    "I attempted to correct this by viewing what was common between these to rergisters\n",
    "or how they relate to other registers, but found no discernible pattern, other than\n",
    "both being rejected transaction attempts.\n",
    "I correct this by simply adding a new category of \"Other\" that will match only\n",
    "these two registers."
   ]
  },
  {
   "cell_type": "code",
   "execution_count": 4,
   "id": "6024d86a",
   "metadata": {},
   "outputs": [
    {
     "data": {
      "text/plain": [
       "Appr?                0\n",
       "CustomerID           0\n",
       "Co Website           0\n",
       "Processing Co        0\n",
       "Issuing Bank         0\n",
       "Amount               0\n",
       "Attempt Timestamp    0\n",
       "dtype: int64"
      ]
     },
     "execution_count": 4,
     "metadata": {},
     "output_type": "execute_result"
    }
   ],
   "source": [
    "payments_df[\"Issuing Bank\"].fillna(\"Other\", inplace=True)\n",
    "payments_df.isnull().sum(axis=0)"
   ]
  },
  {
   "cell_type": "code",
   "execution_count": 5,
   "id": "8c6f8fe1",
   "metadata": {},
   "outputs": [
    {
     "name": "stdout",
     "output_type": "stream",
     "text": [
      "Appr?                         int64\n",
      "CustomerID                    int64\n",
      "Co Website                    int64\n",
      "Processing Co                 int64\n",
      "Issuing Bank                 object\n",
      "Amount                      float64\n",
      "Attempt Timestamp    datetime64[ns]\n",
      "dtype: object\n"
     ]
    },
    {
     "data": {
      "text/plain": [
       "0    500.0\n",
       "1    100.0\n",
       "2     90.0\n",
       "3     25.0\n",
       "4     60.0\n",
       "Name: Amount, dtype: float64"
      ]
     },
     "execution_count": 5,
     "metadata": {},
     "output_type": "execute_result"
    }
   ],
   "source": [
    "# Identify dtypes and correct mislabeled types (Amount columns should be float).\n",
    "print(payments_df.dtypes)\n",
    "payments_df[\"Amount\"].replace(r\"[\\$,]\", \"\", regex=True).astype(float)\n",
    "payments_df[\"Amount\"].head()"
   ]
  },
  {
   "cell_type": "markdown",
   "id": "f3d7f099",
   "metadata": {},
   "source": [
    "## 2. Questions"
   ]
  },
  {
   "cell_type": "markdown",
   "id": "d4309168",
   "metadata": {},
   "source": [
    "### i. What is the dataset's approval rate by quarter?"
   ]
  },
  {
   "cell_type": "code",
   "execution_count": 6,
   "id": "ead4f14b",
   "metadata": {},
   "outputs": [
    {
     "name": "stdout",
     "output_type": "stream",
     "text": [
      "Quarter\n",
      "2020Q4    0.628599\n",
      "2021Q1    0.614814\n",
      "2021Q2    0.603371\n",
      "2021Q3    0.594223\n",
      "Freq: Q-DEC, dtype: float64\n"
     ]
    }
   ],
   "source": [
    "# Introduce a `Quarter` column to group with Pandas. Resembles SQL's GROUP BY directive.\n",
    "payments_df[\"Quarter\"] = pd.PeriodIndex(payments_df[\"Attempt Timestamp\"], freq=\"Q\")\n",
    "grouped_df = payments_df.groupby(\"Quarter\").agg({\"Appr?\": [\"sum\", \"count\"]})\n",
    "grouped_df.columns = grouped_df.columns.droplevel(0)\n",
    "rates = grouped_df[\"sum\"] / grouped_df[\"count\"]\n",
    "print(rates)"
   ]
  },
  {
   "cell_type": "code",
   "execution_count": 7,
   "id": "17257ce5",
   "metadata": {},
   "outputs": [
    {
     "data": {
      "image/png": "[encoded data removed]",
      "text/plain": [
       "<Figure size 640x480 with 1 Axes>"
      ]
     },
     "metadata": {},
     "output_type": "display_data"
    }
   ],
   "source": [
    "sns.scatterplot(x=rates.index.astype(\"datetime64[ns]\"), y=rates)\n",
    "plt.show()"
   ]
  },
  {
   "cell_type": "markdown",
   "id": "6a661d7a",
   "metadata": {},
   "source": [
    "### ii. How many customers attempted a deposit of $50 in Sept 2021?"
   ]
  },
  {
   "cell_type": "code",
   "execution_count": 8,
   "id": "dc773baa",
   "metadata": {},
   "outputs": [],
   "source": [
    "# Filter by date and payment amount, then count unique CustomerIDs.\n",
    "is_month = payments_df[\"Attempt Timestamp\"].dt.month == 9\n",
    "is_year = payments_df[\"Attempt Timestamp\"].dt.year == 2021\n",
    "is_amount = payments_df[\"Amount\"] == 50\n",
    "users = payments_df[is_month & is_year & is_amount][\"CustomerID\"]\n",
    "distinct_attempts = len(users.unique())\n",
    "total_attempts = len(users)"
   ]
  },
  {
   "cell_type": "code",
   "execution_count": 9,
   "id": "5db85013",
   "metadata": {},
   "outputs": [
    {
     "name": "stdout",
     "output_type": "stream",
     "text": [
      "There were 1803 distinct clients, among 2170 total attempts.\n"
     ]
    }
   ],
   "source": [
    "print(\n",
    "    f\"There were {distinct_attempts} distinct clients, among {total_attempts} total attempts.\"\n",
    ")"
   ]
  },
  {
   "cell_type": "markdown",
   "id": "ae8321c5",
   "metadata": {},
   "source": [
    "### iii.How much did the group identified in QUESTION 2 successfully deposit during the month?"
   ]
  },
  {
   "cell_type": "code",
   "execution_count": 10,
   "id": "f8bf38ae",
   "metadata": {},
   "outputs": [
    {
     "name": "stdout",
     "output_type": "stream",
     "text": [
      "The total transacted amount is $867,296.57.\n"
     ]
    }
   ],
   "source": [
    "# Filter again, also by transaction approval, don't filter $50 transactions and distinct customers.\n",
    "is_approved = payments_df[\"Appr?\"] == 1\n",
    "amounts = payments_df[is_month & is_year & is_approved][\"Amount\"]\n",
    "print(f\"The total transacted amount is ${amounts.sum() :,.2f}.\")"
   ]
  },
  {
   "cell_type": "markdown",
   "id": "6ee322d9",
   "metadata": {},
   "source": [
    "### iv. Of the 10 issuing banks with the most deposit attempts between $150.00 and $999.99 in 2021, which had the highest approval rate for the attempts of that deposit amount?"
   ]
  },
  {
   "cell_type": "code",
   "execution_count": 11,
   "id": "0e36fecd",
   "metadata": {},
   "outputs": [],
   "source": [
    "# Filter by deposit amount and year. Group by bank, count attempts.\n",
    "is_in_range = (payments_df[\"Amount\"] >= 150) & (payments_df[\"Amount\"] < 1000)\n",
    "is_year = payments_df[\"Attempt Timestamp\"].dt.year == 2021\n",
    "top_banks = list(\n",
    "    payments_df[is_in_range & is_year]\n",
    "    .groupby(\"Issuing Bank\")[\"Issuing Bank\"]\n",
    "    .count()\n",
    "    .sort_values(ascending=False)\n",
    "    .head(10)\n",
    "    .index\n",
    ")"
   ]
  },
  {
   "cell_type": "code",
   "execution_count": 12,
   "id": "b55dc0a6",
   "metadata": {},
   "outputs": [
    {
     "name": "stdout",
     "output_type": "stream",
     "text": [
      "Issuing Bank\n",
      "BANK1000    0.607072\n",
      "BANK1001    0.536318\n",
      "BANK1002    0.697854\n",
      "BANK1004    0.498965\n",
      "BANK1006    0.500000\n",
      "BANK1010    0.608262\n",
      "BANK1013    0.402821\n",
      "BANK1015    0.486667\n",
      "BANK1017    0.407407\n",
      "BANK1019    0.562827\n",
      "dtype: float64\n",
      "The top issuing bank with highest approval rate between $150.00 and $999.99 from 2021 is BANK1002\n"
     ]
    }
   ],
   "source": [
    "# Filter by amount, year, and bank. Calculate approval rate.\n",
    "is_top_bank = payments_df[\"Issuing Bank\"].isin(top_banks)\n",
    "grouped_df = (\n",
    "    payments_df[is_in_range & is_year & is_top_bank]\n",
    "    .groupby(\"Issuing Bank\")\n",
    "    .agg({\"Appr?\": [\"sum\", \"count\"]})\n",
    ")\n",
    "grouped_df.columns = grouped_df.columns.droplevel(0)\n",
    "rates = grouped_df[\"sum\"] / grouped_df[\"count\"]\n",
    "print(rates)\n",
    "print(\n",
    "    f\"The top issuing bank with highest approval rate between $150.00 and $999.99 from 2021 is {rates.idxmax()}\"\n",
    ")"
   ]
  },
  {
   "cell_type": "markdown",
   "id": "4702f20e",
   "metadata": {},
   "source": [
    "### v. Without performing any analysis, which two parameters would you suspect of causing the successive quarterly decrease in approval rate? Why?"
   ]
  },
  {
   "cell_type": "markdown",
   "id": "1e7ecd0a",
   "metadata": {},
   "source": [
    "I would expect the most influential factor would be the Deposit Amount. As the time goes on, people might have different spending habits and would most likely spend more later as they settle into a spending routine. Greater transaction amounts (both inside and outside of the platform) are likely inversely correlated with approval, and so attempted transactions later in time would be most likely to fail. Insufficient funds and accelerated spending would moslikely result in more rejected transactions."
   ]
  },
  {
   "cell_type": "markdown",
   "id": "21c1c7cb",
   "metadata": {},
   "source": [
    "I would also expect the Website to which customers submit their payment to be of great influence. As the time goes on, users might migrate from one platform to another and as such would inevitably face some friction in performing their transactions. Not only would a bank likely flag these changes as fraud, the customers themselves might make mistakes in registering their information to a new website. Beyond that, a few platforms are likely to move the most volume by transaction amount and transaction count, and so these are likely to have a different approval rate with respect to other websites."
   ]
  },
  {
   "cell_type": "markdown",
   "id": "2f34883c",
   "metadata": {},
   "source": [
    "### vi. Identify and describe two main causal factors of the decline in approval rates seen in Q3 2021 vs Q4 2021?"
   ]
  },
  {
   "cell_type": "markdown",
   "id": "5efd2060",
   "metadata": {},
   "source": [
    "Without getting into predictive or inferential models, I identify the most influential factors according to the mutual information metrix.\n",
    "In order to quantify the effect to which each feature in the dataset influences the approval of a transaction, relative to the quarter it was performed in, I introduce a binary variable, indicative of the quarter, and calculate it's interaction (by product of the variables) with all other features. This analysis would allow us to identify the most significant interaction and, thus, the more influential feature between quarters."
   ]
  },
  {
   "cell_type": "code",
   "execution_count": 13,
   "id": "7294ab40",
   "metadata": {},
   "outputs": [],
   "source": [
    "# Filter create dummy quarter flag. Drop irrelevant features.\n",
    "payments_df_quarters = payments_df[\n",
    "    (payments_df[\"Attempt Timestamp\"].dt.quarter.isin([3, 4]))\n",
    "].drop([\"CustomerID\", \"Attempt Timestamp\"], axis=1)"
   ]
  },
  {
   "cell_type": "code",
   "execution_count": 14,
   "id": "29faa885",
   "metadata": {},
   "outputs": [],
   "source": [
    "payments_df_quarters[\"Q4\"] = (payments_df_quarters[\"Quarter\"].dt.quarter == 4).astype(\n",
    "    int\n",
    ")\n",
    "payments_df_quarters.drop(\"Quarter\", inplace=True, axis=1)"
   ]
  },
  {
   "cell_type": "code",
   "execution_count": 15,
   "id": "48b28a7d",
   "metadata": {},
   "outputs": [],
   "source": [
    "# Encode categorical variables as ordinal by frequency, for feature interaction and later effect estimation.\n",
    "encoders_store = dict()\n",
    "for feature in [\"Co Website\", \"Processing Co\", \"Issuing Bank\", \"Amount\"]:\n",
    "    encoder = (\n",
    "        payments_df_quarters.groupby(feature)[feature].count()\n",
    "    ) / payments_df_quarters.shape[0]\n",
    "\n",
    "    payments_df_quarters[feature] = payments_df_quarters[feature].apply(\n",
    "        lambda x: encoder[x]\n",
    "    )"
   ]
  },
  {
   "cell_type": "code",
   "execution_count": 16,
   "id": "6ec823e1",
   "metadata": {},
   "outputs": [],
   "source": [
    "# Add feature interactions.\n",
    "for feature in [\"Co Website\", \"Processing Co\", \"Issuing Bank\", \"Amount\"]:\n",
    "    payments_df_quarters[f\"Q4:{feature}\"] = (\n",
    "        payments_df_quarters[\"Q4\"] * payments_df_quarters[feature]\n",
    "    )"
   ]
  },
  {
   "cell_type": "code",
   "execution_count": 17,
   "id": "8fb69105",
   "metadata": {},
   "outputs": [],
   "source": [
    "# Mutual information:\n",
    "X = payments_df_quarters.drop(\"Appr?\", axis=1)\n",
    "y = payments_df_quarters[\"Appr?\"]"
   ]
  },
  {
   "cell_type": "code",
   "execution_count": 18,
   "id": "26c7f665",
   "metadata": {},
   "outputs": [],
   "source": [
    "f_test, _ = f_regression(X, y)\n",
    "f_test /= np.max(f_test)"
   ]
  },
  {
   "cell_type": "code",
   "execution_count": 19,
   "id": "9b28b501",
   "metadata": {},
   "outputs": [],
   "source": [
    "mi = mutual_info_regression(X, y)\n",
    "mi /= np.max(mi)"
   ]
  },
  {
   "cell_type": "code",
   "execution_count": 20,
   "id": "1762369c",
   "metadata": {},
   "outputs": [
    {
     "data": {
      "image/png": "[encoded data removed]",
      "text/plain": [
       "<Figure size 1500x500 with 9 Axes>"
      ]
     },
     "metadata": {},
     "output_type": "display_data"
    }
   ],
   "source": [
    "plt.figure(figsize=(15, 5))\n",
    "for i, v in enumerate(X.columns):\n",
    "    plt.subplot(3, 3, i + 1)\n",
    "    plt.scatter(X[v], y, edgecolor=\"black\", s=20)\n",
    "    plt.xlabel(v, fontsize=14)\n",
    "    if i == 0:\n",
    "        plt.ylabel(\"$y$\", fontsize=14)\n",
    "    plt.title(\"F-test={:.2f}, MI={:.2f}\".format(f_test[i], mi[i]), fontsize=16)\n",
    "plt.show()"
   ]
  },
  {
   "cell_type": "markdown",
   "id": "6db04ad2",
   "metadata": {},
   "source": [
    "Because the relation between the pedictive variables and the response variables is most likely not linear, we should trust the Mutual Information more than the F-statistic which assumes a linear relationship. The most influential feature is the Processing Company, most likely because of how unbalanced the data is. A more in-depth analysis would allow for data balancing techniques. However, we care not about the most influential feature in general to predict the approval of a transaction, but the most influential for the change in approval rate between quarters."
   ]
  },
  {
   "cell_type": "markdown",
   "id": "c38cc010",
   "metadata": {},
   "source": [
    "The most important interactions are the those with Processing Co and Issuing Bank, with Amount closely following behind. At this stage, we cannot yet tell the relation between Approval Rate and these interactions, only that these are greatly influential."
   ]
  },
  {
   "cell_type": "markdown",
   "id": "ffd65948",
   "metadata": {},
   "source": [
    "### vii. Choose one of the main factors identified in QUESTION 6. How much of the approval rate decline seen in Q3 2021 vs Q4 2020 is explained by this factor?"
   ]
  },
  {
   "cell_type": "markdown",
   "id": "aa50cfe0",
   "metadata": {},
   "source": [
    "To identify the relationship between a feature and its response variable, we must establish a statistical model. Let's start with a logistic regression of the Appr? variable as a function of all other features and the interactions with the Q4 flag. We allow for a regularization term as the variables are definitely mutualy correlated."
   ]
  },
  {
   "cell_type": "code",
   "execution_count": 21,
   "id": "28cd8802",
   "metadata": {},
   "outputs": [
    {
     "name": "stdout",
     "output_type": "stream",
     "text": [
      "0.6301973716918284\n"
     ]
    }
   ],
   "source": [
    "lgm = LogisticRegression(random_state=0).fit(X, y)\n",
    "print(lgm.score(X, y))"
   ]
  },
  {
   "cell_type": "markdown",
   "id": "f7fcae25",
   "metadata": {},
   "source": [
    "Our naive first model is able to predict the approval of any transaction with close to 63% accuracy. I would like to further refine the model but will keep from doing so due to time constraints. Let's evaluate the coefficients and identify the effect of a relevant interaction on approval."
   ]
  },
  {
   "cell_type": "code",
   "execution_count": 22,
   "id": "073aa126",
   "metadata": {},
   "outputs": [
    {
     "name": "stdout",
     "output_type": "stream",
     "text": [
      "Co Website          0.517901\n",
      "Processing Co       5.816266\n",
      "Issuing Bank        3.761224\n",
      "Amount              2.489901\n",
      "Q4                 -0.007840\n",
      "Q4:Co Website       0.031324\n",
      "Q4:Processing Co    6.092355\n",
      "Q4:Issuing Bank    -1.593583\n",
      "Q4:Amount           0.231067\n",
      "dtype: float64\n"
     ]
    }
   ],
   "source": [
    "coefficients = pd.Series({v: lgm.coef_[0][i] for i, v in enumerate(X.columns)})\n",
    "print(coefficients)"
   ]
  },
  {
   "cell_type": "markdown",
   "id": "2b77efef",
   "metadata": {
    "lines_to_next_cell": 2
   },
   "source": [
    "The coefficients suggest that as users perform transactions with the more popular banks, in Q3, the rate at which transactions are approved increases. Specifically, the very same transaction from the least frequent bank, executed by the most frequent bank in Q3, would see an increase in it's Odds of being approved of $e^{3.761}=43$. This same behavior in Q4 would represent an increase of $e^{3.761-1.59}=8.77$, much lower odds. What do we make of this? Customers changing banks had a much bigger effect on the rate at which transactions where apprroved in 2021Q3, than it did in 2020Q4. Changing from a less frequent bank to a more frequent bank DOES increase the odds of a transaction being approved, but in recent quarters more than previously."
   ]
  },
  {
   "cell_type": "markdown",
   "id": "80d7c34a",
   "metadata": {},
   "source": [
    "### viii. If you had more time, which other analyses would you like to perform on this dataset to identify additional causal factors to those identified in QUESTION 6."
   ]
  },
  {
   "cell_type": "markdown",
   "id": "ccda75e0",
   "metadata": {},
   "source": [
    "Our analysis so far has concluded that users changing banks has the potential to severely influence the rate at which transactions are approved. What remains, is to evaluate to what extent people have been changing banks. If people have, and the composition of transactions became more homogeneous across banks, that would explain why transaction approvals have been on decline. On the other hand, if the composition of transactions has become less homogeneous, and people have been migrating toward the more common banks, we will have come across a contradiction in our results as the expected effect would be an increase in overall transaction rate as the Odds increase. As such, we would have to look at other factors and other interactions with which to explain the decline in approval rate. Also, the accuracy of the logistic regression model is good, but not excellent. I would very much like to explore some more refined models, or even just to tune the hyperparameters of the logistic regression."
   ]
  },
  {
   "cell_type": "markdown",
   "id": "7e9afb97",
   "metadata": {},
   "source": [
    "More over, this analysis would be well accompanied by more in depth and attractive visualizations with which to explain trends and interactions between variables. Visualization is time consuming, but, if given the time, a Dashboard built on Dash or PowerBI could help communicate this information to an audience less familiar with statistics."
   ]
  },
  {
   "cell_type": "markdown",
   "id": "6a5996fb",
   "metadata": {},
   "source": [
    "Uploading the data to a server (temptatively as a SQL database) to easily access remotely and keep up to date as a single source of truth would also be quite beneficial for the long term applicability of the study."
   ]
  }
 ],
 "metadata": {
  "jupytext": {
   "cell_metadata_filter": "-all",
   "formats": "auto:light,ipynb",
   "notebook_metadata_filter": "-all"
  },
  "kernelspec": {
   "display_name": "Python 3 (ipykernel)",
   "language": "python",
   "name": "python3"
  },
  "language_info": {
   "codemirror_mode": {
    "name": "ipython",
    "version": 3
   },
   "file_extension": ".py",
   "mimetype": "text/x-python",
   "name": "python",
   "nbconvert_exporter": "python",
   "pygments_lexer": "ipython3",
   "version": "3.11.6"
  }
 },
 "nbformat": 4,
 "nbformat_minor": 5
}
